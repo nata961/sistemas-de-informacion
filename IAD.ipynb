{
  "nbformat": 4,
  "nbformat_minor": 0,
  "metadata": {
    "colab": {
      "provenance": [],
      "include_colab_link": true
    },
    "kernelspec": {
      "name": "python3",
      "display_name": "Python 3"
    },
    "language_info": {
      "name": "python"
    }
  },
  "cells": [
    {
      "cell_type": "markdown",
      "metadata": {
        "id": "view-in-github",
        "colab_type": "text"
      },
      "source": [
        "<a href=\"https://colab.research.google.com/github/nata961/sistemas-de-informacion/blob/master/IAD.ipynb\" target=\"_parent\"><img src=\"https://colab.research.google.com/assets/colab-badge.svg\" alt=\"Open In Colab\"/></a>"
      ]
    },
    {
      "cell_type": "markdown",
      "source": [
        "Importa las bibliotecas necesarias."
      ],
      "metadata": {
        "id": "wnHoBh1PZA5j"
      }
    },
    {
      "cell_type": "code",
      "execution_count": null,
      "metadata": {
        "id": "tjaw9rp-GjRu"
      },
      "outputs": [],
      "source": [
        "import pandas as pd\n",
        "from google.colab import drive\n"
      ]
    },
    {
      "cell_type": "markdown",
      "source": [
        "Montar Google Drive en Google Colab"
      ],
      "metadata": {
        "id": "otqqOQUtZG4Q"
      }
    },
    {
      "cell_type": "code",
      "source": [
        "drive.mount('/content/drive')\n"
      ],
      "metadata": {
        "colab": {
          "base_uri": "https://localhost:8080/"
        },
        "id": "2clFU6fsYj4L",
        "outputId": "9f4033d6-16f0-487b-feda-d26ae8288c63"
      },
      "execution_count": null,
      "outputs": [
        {
          "output_type": "stream",
          "name": "stdout",
          "text": [
            "Mounted at /content/drive\n"
          ]
        }
      ]
    },
    {
      "cell_type": "markdown",
      "source": [
        "Definir la ruta de la carpeta y el nombre del archivo CSV"
      ],
      "metadata": {
        "id": "DbAS0Y4_aJ1s"
      }
    },
    {
      "cell_type": "code",
      "source": [
        "import pandas as pd\n",
        "\n",
        "# Definir la ruta del archivo CSV\n",
        "file_path = '/content/drive/My Drive/Depuracion/357_depuracion.csv'\n",
        "\n",
        "# Leer el archivo CSV en un DataFrame de Pandas\n",
        "data = pd.read_csv(file_path, delimiter=';', encoding='latin1')"
      ],
      "metadata": {
        "id": "hk1cWHzIYziV"
      },
      "execution_count": null,
      "outputs": []
    },
    {
      "cell_type": "markdown",
      "source": [
        "Leer la base de datos"
      ],
      "metadata": {
        "id": "AEEUTuSxcqvE"
      }
    },
    {
      "cell_type": "code",
      "source": [
        "# Lee el archivo CSV en un DataFrame de Pandas\n",
        "data = pd.read_csv(file_path, delimiter=';', encoding='latin1')\n",
        "\n",
        "# Llenar los valores faltantes con cero en las columnas que deben ser enteras\n",
        "columnas_entero = ['muestra', 'agente', 'resultado', 'lab_ajuste', 'area_', 'estrato_', 'gp_discapa',\n",
        "                   'gp_desplaz', 'gp_migrant', 'gp_carcela', 'gp_gestan', 'gp_indigen', 'gp_pobicbf',\n",
        "                   'gp_mad_com', 'gp_desmovi', 'gp_psiquia', 'gp_vic_vio', 'cod_dpto_r', 'cod_pais_r',\n",
        "                   'cod_mun_r', 'caso_extra', 'crit_nav', 'crit_itsac', 'crit_istua', 'iad_polim', 'dias_prein']\n",
        "\n",
        "data[columnas_entero] = data[columnas_entero].fillna(0)\n",
        "\n",
        "# Convertir las columnas a tipo de dato entero\n",
        "data[columnas_entero] = data[columnas_entero].astype(int)\n",
        "\n",
        "# Verifica que el archivo se haya leído correctamente mostrando las primeras filas del DataFrame\n",
        "print(data.head())"
      ],
      "metadata": {
        "colab": {
          "base_uri": "https://localhost:8080/"
        },
        "id": "pazDtHWDaqWj",
        "outputId": "7eb3b910-2fc3-4506-84fe-9181b25b9cb5"
      },
      "execution_count": null,
      "outputs": [
        {
          "output_type": "stream",
          "name": "stdout",
          "text": [
            "        control     fec_exa  fec_rec  muestra prueba  agente  resultado  \\\n",
            "0  LABORATORIOS  30/12/2023      NaN        2     G0     107          1   \n",
            "1  LABORATORIOS  15/12/2023      NaN       32     C7    2260          1   \n",
            "2  LABORATORIOS   8/12/2023      NaN        1     92    2287          1   \n",
            "3  LABORATORIOS  12/01/2024      NaN        1     92     183          1   \n",
            "4  LABORATORIOS   8/12/2023      NaN        1     92    2285          1   \n",
            "\n",
            "      fec_exp valor  lab_ajuste  ...  \\\n",
            "0   1/01/2024   NaN           0  ...   \n",
            "1  15/12/2023   NaN           0  ...   \n",
            "2  12/12/2023   NaN           0  ...   \n",
            "3  12/01/2024   NaN           0  ...   \n",
            "4  10/12/2023   NaN           0  ...   \n",
            "\n",
            "                                           nom_upgd npais_proce  ndep_proce  \\\n",
            "0        FUNDACION HOSPITALARIA SAN VICENTE DE PAUL    COLOMBIA   ANTIOQUIA   \n",
            "1  CENTRO CARDIOVASCULAR COLOMBIANO CLINICA SANTA M    COLOMBIA   ANTIOQUIA   \n",
            "2      PROMOTORA CLINICA ZONA FRANCA DE URABA   SAS    COLOMBIA   ANTIOQUIA   \n",
            "3                              CLINICA DEL PRADO SA    COLOMBIA   ANTIOQUIA   \n",
            "4                   ESE HOSPITAL MANUEL URIBE ANGEL    COLOMBIA   ANTIOQUIA   \n",
            "\n",
            "   nmun_proce  npais_resi  ndep_resi nmun_resi ndep_notif nmun_notif  \\\n",
            "0    MEDELLIN    COLOMBIA  ANTIOQUIA  MEDELLIN  ANTIOQUIA   MEDELLIN   \n",
            "1    MEDELLIN    COLOMBIA  ANTIOQUIA  MEDELLIN  ANTIOQUIA   MEDELLIN   \n",
            "2    APARTADO    COLOMBIA  ANTIOQUIA  APARTADO  ANTIOQUIA   APARTADO   \n",
            "3    MEDELLIN         NaN        NaN       NaN  ANTIOQUIA   MEDELLIN   \n",
            "4    ENVIGADO         NaN        NaN       NaN  ANTIOQUIA   ENVIGADO   \n",
            "\n",
            "    FechaHora  \n",
            "0  19/03/2024  \n",
            "1   7/05/2024  \n",
            "2   7/05/2024  \n",
            "3  22/01/2024  \n",
            "4   2/05/2024  \n",
            "\n",
            "[5 rows x 152 columns]\n"
          ]
        }
      ]
    },
    {
      "cell_type": "markdown",
      "source": [
        "**Eliminar caracteres especiales **"
      ],
      "metadata": {
        "id": "_slLw6CJcHuc"
      }
    },
    {
      "cell_type": "code",
      "source": [
        "!pip install unidecode\n"
      ],
      "metadata": {
        "colab": {
          "base_uri": "https://localhost:8080/"
        },
        "id": "ZvQ7GzJvcUw7",
        "outputId": "f62aaf9e-7005-460e-f650-7a42da73e930"
      },
      "execution_count": null,
      "outputs": [
        {
          "output_type": "stream",
          "name": "stdout",
          "text": [
            "Collecting unidecode\n",
            "  Downloading Unidecode-1.3.8-py3-none-any.whl (235 kB)\n",
            "\u001b[?25l     \u001b[90m━━━━━━━━━━━━━━━━━━━━━━━━━━━━━━━━━━━━━━━━\u001b[0m \u001b[32m0.0/235.5 kB\u001b[0m \u001b[31m?\u001b[0m eta \u001b[36m-:--:--\u001b[0m\r\u001b[2K     \u001b[91m━━━━━━━━━━━━━━━\u001b[0m\u001b[91m╸\u001b[0m\u001b[90m━━━━━━━━━━━━━━━━━━━━━━━━\u001b[0m \u001b[32m92.2/235.5 kB\u001b[0m \u001b[31m2.7 MB/s\u001b[0m eta \u001b[36m0:00:01\u001b[0m\r\u001b[2K     \u001b[90m━━━━━━━━━━━━━━━━━━━━━━━━━━━━━━━━━━━━━━━━\u001b[0m \u001b[32m235.5/235.5 kB\u001b[0m \u001b[31m4.3 MB/s\u001b[0m eta \u001b[36m0:00:00\u001b[0m\n",
            "\u001b[?25hInstalling collected packages: unidecode\n",
            "Successfully installed unidecode-1.3.8\n"
          ]
        }
      ]
    },
    {
      "cell_type": "code",
      "source": [
        "from unidecode import unidecode\n",
        "# Cambiar las letras 'Ñ' por 'N' y eliminar tildes en todas las columnas de texto\n",
        "data = data.applymap(lambda x: unidecode(str(x)).replace('Ñ', 'N') if isinstance(x, str) else x)"
      ],
      "metadata": {
        "id": "VLKOLWFycMR8"
      },
      "execution_count": null,
      "outputs": []
    },
    {
      "cell_type": "markdown",
      "source": [
        "Organizar encabezados de columnas"
      ],
      "metadata": {
        "id": "V6OZQHrbgLoC"
      }
    },
    {
      "cell_type": "code",
      "source": [
        "print(data.columns)\n",
        "data.columns = data.columns.str.strip()  # Eliminar espacios en blanco alrededor de los nombres de las columnas\n"
      ],
      "metadata": {
        "colab": {
          "base_uri": "https://localhost:8080/"
        },
        "id": "VXo5_3UCcfhD",
        "outputId": "46d0b792-e088-4651-f1dc-140be7471067"
      },
      "execution_count": null,
      "outputs": [
        {
          "output_type": "stream",
          "name": "stdout",
          "text": [
            "Index(['control', 'fec_exa', 'fec_rec', 'muestra', 'prueba', 'agente',\n",
            "       'resultado', 'fec_exp', 'valor', 'lab_ajuste',\n",
            "       ...\n",
            "       'nom_upgd', 'npais_proce', 'ndep_proce', 'nmun_proce', 'npais_resi',\n",
            "       'ndep_resi', 'nmun_resi', 'ndep_notif', 'nmun_notif', 'FechaHora'],\n",
            "      dtype='object', length=152)\n"
          ]
        }
      ]
    },
    {
      "cell_type": "markdown",
      "source": [
        "Paso 1: Eliminar los casos con departamento diferente de Antioquia"
      ],
      "metadata": {
        "id": "sJEvXwBpdKg1"
      }
    },
    {
      "cell_type": "code",
      "source": [
        "import pandas as pd\n",
        "\n",
        "# Filtrar por la variable 'ndep_notif' para mantener solo los casos notificados en Antioquia\n",
        "data_antioquia = data[data['ndep_notif'] == 'ANTIOQUIA']\n",
        "\n",
        "# Ajustar la precisión de la visualización de los datos numéricos\n",
        "pd.set_option('display.float_format', '{:.2f}'.format)\n",
        "\n",
        "# Verificar la cantidad de registros después de filtrar por Antioquia\n",
        "print(\"Cantidad de registros después de filtrar por Antioquia:\", len(data_antioquia))\n",
        "\n",
        "# Guardar la base de datos filtrada en un nuevo archivo CSV\n",
        "file_path_antioquia = '/content/drive/My Drive/Depuracion/data_antioquia.csv'\n",
        "data_antioquia.to_csv(file_path_antioquia, index=False)\n",
        "\n",
        "print(\"Base de datos filtrada por Antioquia guardada en:\", file_path_antioquia)\n"
      ],
      "metadata": {
        "colab": {
          "base_uri": "https://localhost:8080/"
        },
        "id": "Nq7EVngcxfJX",
        "outputId": "e92571f3-2961-434a-8910-2e8f2ce6b4b3"
      },
      "execution_count": null,
      "outputs": [
        {
          "output_type": "stream",
          "name": "stdout",
          "text": [
            "Cantidad de registros después de filtrar por Antioquia: 409\n",
            "Base de datos filtrada por Antioquia guardada en: /content/drive/My Drive/Depuracion/data_antioquia.csv\n"
          ]
        }
      ]
    },
    {
      "cell_type": "markdown",
      "source": [
        "Paso 2: Separar los descartados en una base de datos diferente"
      ],
      "metadata": {
        "id": "b2JKYxSPnj-T"
      }
    },
    {
      "cell_type": "code",
      "source": [
        "# Filtrar los casos con ajuste 'D' o '6' en los datos de Antioquia\n",
        "descartados_antioquia = data_antioquia[(data_antioquia['ajuste_'] == 'D') | (data_antioquia['ajuste_'] == '6')]\n",
        "\n",
        "# Verificar la cantidad de registros a descartar en Antioquia\n",
        "print(\"Cantidad de registros a descartar en Antioquia:\", len(descartados_antioquia))\n",
        "\n",
        "# Eliminar los casos descartados de los datos de Antioquia\n",
        "data_antioquia = data_antioquia.drop(descartados_antioquia.index)\n",
        "\n",
        "# Verificar la cantidad de registros en Antioquia después de retirar los descartados\n",
        "print(\"Cantidad de registros en Antioquia después de retirar los descartados:\", len(data_antioquia))\n",
        "\n",
        "# Guardar los casos descartados de Antioquia en otra pestaña llamada Descartados\n",
        "descartados_file_path = '/content/drive/My Drive/Depuracion/descartados_antioquia.csv'\n",
        "descartados_antioquia.to_csv(descartados_file_path, index=False)\n",
        "\n",
        "print(\"Casos descartados en Antioquia guardados en el archivo:\", descartados_file_path)"
      ],
      "metadata": {
        "colab": {
          "base_uri": "https://localhost:8080/"
        },
        "id": "KYqx6xgqhXFl",
        "outputId": "abe94ce6-1f32-4985-c222-07ca6391e5e8"
      },
      "execution_count": null,
      "outputs": [
        {
          "output_type": "stream",
          "name": "stdout",
          "text": [
            "Cantidad de registros a descartar en Antioquia: 22\n",
            "Cantidad de registros en Antioquia después de retirar los descartados: 387\n",
            "Casos descartados en Antioquia guardados en el archivo: /content/drive/My Drive/Depuracion/descartados_antioquia.csv\n"
          ]
        }
      ]
    },
    {
      "cell_type": "markdown",
      "source": [
        "PASO 3: Eliminar los ajustes por laboratorio con ajuste 6 para el criterio NAV 2 y 3"
      ],
      "metadata": {
        "id": "2b6pydnpyk22"
      }
    },
    {
      "cell_type": "code",
      "source": [
        "# Filtrar los casos con 'crit_nav' igual a 2 o 3 en los datos de Antioquia\n",
        "crit_nav_2_3 = data_antioquia[(data_antioquia['crit_nav'] == 2) | (data_antioquia['crit_nav'] == 3)]\n",
        "\n",
        "# Filtrar los casos de crit_nav_2_3 que también tienen lab_ajuste igual a 6\n",
        "descartados_crit_nav_6 = crit_nav_2_3[crit_nav_2_3['lab_ajuste'] == 6]\n",
        "\n",
        "# Guardar los casos descartados en otra base de datos\n",
        "descartados_file_path = '/content/drive/My Drive/Depuracion/descartados_lab6_crit23_antioquia.csv'\n",
        "descartados_crit_nav_6.to_csv(descartados_file_path, index=False)\n",
        "\n",
        "print(\"Casos descartados de laboratorio ajuste 6 y criterios 2 y 3 guardados en:\", descartados_file_path)\n",
        "\n",
        "# Eliminar los casos filtrados de data_antioquia\n",
        "data_antioquia = data_antioquia.drop(descartados_crit_nav_6.index)\n",
        "\n",
        "# Verificar la cantidad de registros en data_antioquia después de eliminar los casos\n",
        "print(\"Cantidad de registros en data_antioquia después de eliminar los casos:\", len(data_antioquia))"
      ],
      "metadata": {
        "colab": {
          "base_uri": "https://localhost:8080/"
        },
        "id": "aWftCNLHyuab",
        "outputId": "3354748f-7352-4e89-bbd7-e74ce418c706"
      },
      "execution_count": null,
      "outputs": [
        {
          "output_type": "stream",
          "name": "stdout",
          "text": [
            "Casos descartados de laboratorio ajuste 6 y criterios 2 y 3 guardados en: /content/drive/My Drive/Depuracion/descartados_lab6_crit23_antioquia.csv\n",
            "Cantidad de registros en data_antioquia después de eliminar los casos: 380\n"
          ]
        }
      ]
    },
    {
      "cell_type": "markdown",
      "source": [
        "PASO 4: Eliminar los ajustes de laboratorio 6 y tipo iad 2 y 3"
      ],
      "metadata": {
        "id": "wB9LuDYH2BV0"
      }
    },
    {
      "cell_type": "code",
      "source": [
        "# Filtrar los casos con 'tipo_iad' igual a 2 o 3 en los datos de Antioquia\n",
        "tipo_iad_2_3 = data_antioquia[(data_antioquia['tipo_iad'] == 2) | (data_antioquia['tipo_iad'] == 3)]\n",
        "\n",
        "# Filtrar los casos de tipo_iad_2_3 que también tienen lab_ajuste igual a 6\n",
        "descartados_tipo_iad_6 = tipo_iad_2_3[tipo_iad_2_3['lab_ajuste'] == 6]\n",
        "\n",
        "# Guardar los casos descartados en otra base de datos\n",
        "descartados_file_path = '/content/drive/My Drive/Depuracion/descartados_lab6_tipoiad23_antioquia.csv'\n",
        "descartados_tipo_iad_6.to_csv(descartados_file_path, index=False)\n",
        "\n",
        "print(\"Casos descartados de laboratorio ajuste 6 y tipo IAD 2 y 3 guardados en:\", descartados_file_path)\n",
        "\n",
        "# Eliminar los casos filtrados de data_antioquia\n",
        "data_antioquia = data_antioquia.drop(descartados_tipo_iad_6.index)\n",
        "\n",
        "# Verificar la cantidad de registros en data_antioquia después de eliminar los casos\n",
        "print(\"Cantidad de registros en data_antioquia después de eliminar los casos:\", len(data_antioquia))"
      ],
      "metadata": {
        "colab": {
          "base_uri": "https://localhost:8080/"
        },
        "id": "0P81NGQ-2Aj-",
        "outputId": "3b0d7e10-1b2a-4487-8d05-24dcec084c80"
      },
      "execution_count": null,
      "outputs": [
        {
          "output_type": "stream",
          "name": "stdout",
          "text": [
            "Casos descartados de laboratorio ajuste 6 y tipo IAD 2 y 3 guardados en: /content/drive/My Drive/Depuracion/descartados_lab6_tipoiad23_antioquia.csv\n",
            "Cantidad de registros en data_antioquia después de eliminar los casos: 373\n"
          ]
        }
      ]
    },
    {
      "cell_type": "markdown",
      "source": [
        "PASO 5= Eliminar ajuste de laboratorio 6 y tipo IAD 1 y Crit Nav 1, desde la columna A a la I"
      ],
      "metadata": {
        "id": "_nslH5YM4ZwC"
      }
    },
    {
      "cell_type": "code",
      "source": [
        "# Filtrar los casos con lab_ajuste igual a 6, tipo_iad igual a 1 y crit_nav igual a 1\n",
        "casos_a_borrar = data_antioquia[(data_antioquia['lab_ajuste'] == 6) &\n",
        "                                 (data_antioquia['tipo_iad'] == 1) &\n",
        "                                 (data_antioquia['crit_nav'] == 1)]\n",
        "\n",
        "# Guardar la cantidad de casos encontrados\n",
        "cantidad_casos_borrados = len(casos_a_borrar)\n",
        "print(\"Cantidad de casos encontrados:\", cantidad_casos_borrados)\n",
        "\n",
        "# Eliminar las columnas desde la A hasta la I para los casos filtrados\n",
        "columnas_a_borrar = data_antioquia.columns[:9]  # Seleccionar las columnas de la A a la I\n",
        "data_antioquia.loc[casos_a_borrar.index, columnas_a_borrar] = None\n",
        "\n",
        "# Verificar la cantidad de registros en data_antioquia después de eliminar los casos\n",
        "print(\"Cantidad de registros en data_antioquia después de eliminar los casos:\", len(data_antioquia))"
      ],
      "metadata": {
        "colab": {
          "base_uri": "https://localhost:8080/"
        },
        "id": "Lfla_c_CYdEi",
        "outputId": "afcd3438-0058-4bb7-c07b-5f6524d1c5f7"
      },
      "execution_count": null,
      "outputs": [
        {
          "output_type": "stream",
          "name": "stdout",
          "text": [
            "Cantidad de casos encontrados: 4\n",
            "Cantidad de registros en data_antioquia después de eliminar los casos: 373\n"
          ]
        }
      ]
    },
    {
      "cell_type": "markdown",
      "source": [
        "PASO 6= Retirar fecha diagnostico que sean del año anterior"
      ],
      "metadata": {
        "id": "ah6egvVK-N0j"
      }
    },
    {
      "cell_type": "markdown",
      "source": [
        "PASO 7: Para todo paciente que es remitido remitido =1  calcular la diferencia entre fec_diag y fecha de ingreso a la UCI fec_inguc si la diferencia es mayor o igual a 3 debe ser intrahospitalario, caso_extra = 2 . Clasificar los casos como extrahospitalario caso_extra = 1 aquellos cuya diferencia sea menor a 3 y copiarlos en otra pestaña y retirarlos de la base. Aquellos cuya diferencia es un valor negativo se debe solicitar revisión de la inconsistencia.\n"
      ],
      "metadata": {
        "id": "ibMw_s_wA3pE"
      }
    },
    {
      "cell_type": "code",
      "source": [
        "import pandas as pd\n",
        "# Convertir las columnas 'fec_diag' y 'fec_inguci' al formato de fecha\n",
        "data_antioquia['fec_inguci'] = pd.to_datetime(data_antioquia['fec_inguci'], format='%d/%m/%Y', errors='coerce')\n",
        "data_antioquia['fec_diag'] = pd.to_datetime(data_antioquia['fec_diag'], format='%d/%m/%Y', errors='coerce')\n",
        "\n",
        "# Filtrar los casos donde 'remitido' es igual a 1\n",
        "casos_remitidos = data_antioquia[data_antioquia['remitido'] == 1]\n",
        "\n",
        "# Filtrar los casos donde 'caso_extra' es igual a 2\n",
        "casos_caso_extra_2 = casos_remitidos[casos_remitidos['caso_extra'] == 2]\n",
        "\n",
        "# Calcular la diferencia entre 'fec_diag' y 'fec_inguci'\n",
        "diferencia_timedelta = casos_caso_extra_2['fec_diag'] - casos_caso_extra_2['fec_inguci']\n",
        "\n",
        "# Actualizar la columna 'AJUSTE' para aquellos casos donde la resta es negativa o menor a 3 días\n",
        "data_antioquia.loc[(data_antioquia['remitido'] == 1) & (data_antioquia['caso_extra'] == 2) & (diferencia_timedelta < pd.Timedelta(days=3)), 'AJUSTE'] = 'Intrahospitalario'\n",
        "\n",
        "# Actualizar la columna 'AJUSTE' para aquellos casos donde la resta es negativa\n",
        "data_antioquia.loc[(data_antioquia['remitido'] == 1) & (data_antioquia['caso_extra'] == 2) & (diferencia_timedelta < pd.Timedelta(days=0)), 'AJUSTE'] = 'Inconsistencia entre fecdiag y fecinguci'\n",
        "\n",
        "# Guardar la base de datos con las nuevas columnas\n",
        "data_antioquia.to_csv('/content/drive/My Drive/Depuracion/data_antioquia_con_ajuste.csv', index=False)\n",
        "\n",
        "# Verificar la cantidad de registros en data_antioquia después de eliminar los casos\n",
        "print(\"Cantidad de registros en data_antioquia después de eliminar los casos:\", len(data_antioquia))"
      ],
      "metadata": {
        "colab": {
          "base_uri": "https://localhost:8080/"
        },
        "id": "XWavS0FKBPLZ",
        "outputId": "6ab173b6-c8c7-4a70-b36e-cb1d29475671"
      },
      "execution_count": null,
      "outputs": [
        {
          "output_type": "stream",
          "name": "stdout",
          "text": [
            "Cantidad de registros en data_antioquia después de eliminar los casos: 373\n"
          ]
        }
      ]
    },
    {
      "cell_type": "code",
      "source": [
        "import pandas as pd\n",
        "\n",
        "# Filtrar los casos donde 'remitido' es igual a 1 y 'caso_extra' es igual a 1\n",
        "casos_remitidos_caso_extra_1 = data_antioquia[(data_antioquia['remitido'] == 1) & (data_antioquia['caso_extra'] == 1)]\n",
        "\n",
        "# Calcular la diferencia entre 'fec_diag' y 'fec_inguci'\n",
        "diferencia_timedelta = casos_remitidos_caso_extra_1['fec_diag'] - casos_remitidos_caso_extra_1['fec_inguci']\n",
        "\n",
        "# Actualizar la columna 'AJUSTE' para aquellos casos donde la resta es mayor o igual a 3 días\n",
        "data_antioquia.loc[(data_antioquia['remitido'] == 1) & (data_antioquia['caso_extra'] == 1) & (diferencia_timedelta >= pd.Timedelta(days=3)), 'AJUSTE'] = 'Extrahospitalario'\n",
        "\n",
        "# Actualizar la columna 'AJUSTE' para aquellos casos donde la resta es negativa\n",
        "data_antioquia.loc[(data_antioquia['remitido'] == 1) & (data_antioquia['caso_extra'] == 1) & (diferencia_timedelta < pd.Timedelta(days=0)), 'AJUSTE'] = 'Inconsistencia entre fecdiag y fecinguci'\n",
        "\n",
        "# Guardar la base de datos con las nuevas columnas\n",
        "data_antioquia.to_csv('/content/drive/My Drive/Depuracion/data_antioquia_con_ajuste.csv', index=False)\n",
        "\n",
        "# Verificar la cantidad de registros en data_antioquia después de eliminar los casos\n",
        "print(\"Cantidad de registros en data_antioquia después de eliminar los casos:\", len(data_antioquia))\n"
      ],
      "metadata": {
        "id": "-tcdd9335gC5",
        "colab": {
          "base_uri": "https://localhost:8080/"
        },
        "outputId": "dda1c614-d659-4144-e4eb-a68f8927f7f7"
      },
      "execution_count": null,
      "outputs": [
        {
          "output_type": "stream",
          "name": "stdout",
          "text": [
            "Cantidad de registros en data_antioquia después de eliminar los casos: 373\n"
          ]
        }
      ]
    },
    {
      "cell_type": "markdown",
      "source": [
        "PASO 8: INCONSISTENCIA EN FECHAS"
      ],
      "metadata": {
        "id": "xdEatEu4arv1"
      }
    },
    {
      "cell_type": "code",
      "source": [
        "import pandas as pd\n",
        "\n",
        "# Agregar la columna 'AJUSTEFECHAS' con valores predeterminados vacíos\n",
        "data_antioquia['AJUSTEFECHAS'] = ''\n",
        "\n",
        "# Filtrar los casos donde alguna de las fechas sea mayor que la fec_diag\n",
        "fechas_mayores_fec_diag = data_antioquia[(data_antioquia['fec_con_'] > data_antioquia['fec_diag']) |\n",
        "                                          (data_antioquia['ini_sin_'] > data_antioquia['fec_diag']) |\n",
        "                                          (data_antioquia['fec_hos_'] > data_antioquia['fec_diag'])]\n",
        "\n",
        "# Si hay casos donde alguna de las fechas es mayor que fec_diag, ajustar la columna 'AJUSTE'\n",
        "if not fechas_mayores_fec_diag.empty:\n",
        "    # Ajustar la columna 'AJUSTEFECHAS' para indicar que se debe ajustar la concordancia de fechas\n",
        "    data_antioquia.loc[fechas_mayores_fec_diag.index, 'AJUSTEFECHAS'] = 'Ajustar concordancia de fechas fec_con_; ini_sin_; fec_hos'\n",
        "\n",
        "# Guardar la base de datos con las nuevas columnas\n",
        "data_antioquia.to_csv('/content/drive/My Drive/Depuracion/data_antioquia_con_ajuste.csv', index=False)\n",
        "\n",
        "# Verificar la cantidad de registros en data_antioquia después de eliminar los casos\n",
        "print(\"Cantidad de registros en data_antioquia después de eliminar los casos:\", len(data_antioquia))"
      ],
      "metadata": {
        "id": "2EzRz2VParQP",
        "colab": {
          "base_uri": "https://localhost:8080/"
        },
        "outputId": "adf292f1-a1fe-4b6f-c7ee-1074d69f0bc3"
      },
      "execution_count": null,
      "outputs": [
        {
          "output_type": "stream",
          "name": "stdout",
          "text": [
            "Cantidad de registros en data_antioquia después de eliminar los casos: 373\n"
          ]
        }
      ]
    },
    {
      "cell_type": "markdown",
      "source": [
        "PASO 9: CONCORDANCIA FECHA DEFUNCION"
      ],
      "metadata": {
        "id": "34VPbY_rbjy8"
      }
    },
    {
      "cell_type": "code",
      "source": [
        "import pandas as pd\n",
        "# Convertir las columnas 'fec_diag' y 'fec_inguci' al formato de fecha\n",
        "data_antioquia['fec_def_'] = pd.to_datetime(data_antioquia['fec_def_'], format='%d/%m/%Y', errors='coerce')\n",
        "# Agregar la columna 'AJUSTEFECHAS' con valores predeterminados vacíos\n",
        "data_antioquia['AJUSTEDEFUNCION'] = ''\n",
        "\n",
        "fechas_mayores_fec_diag = data_antioquia[(data_antioquia['fec_def_'] < data_antioquia['fec_diag'])]\n",
        "\n",
        "# Si hay casos donde alguna de las fechas es mayor que fec_diag, ajustar la columna 'AJUSTE'\n",
        "if not fechas_mayores_fec_diag.empty:\n",
        "    # Ajustar la columna 'AJUSTEFECHAS' para indicar que se debe ajustar la concordancia de fechas\n",
        "    data_antioquia.loc[fechas_mayores_fec_diag.index, 'AJUSTEDEFUNCION'] = 'Ajustar concordancia de fec_def'\n",
        "\n",
        "# Guardar la base de datos con las nuevas columnas\n",
        "data_antioquia.to_csv('/content/drive/My Drive/Depuracion/data_antioquia_con_ajuste.csv', index=False)\n",
        "\n",
        "# Verificar la cantidad de registros en data_antioquia después de eliminar los casos\n",
        "print(\"Cantidad de registros en data_antioquia después de eliminar los casos:\", len(data_antioquia))"
      ],
      "metadata": {
        "id": "GtMXxannm8gp",
        "colab": {
          "base_uri": "https://localhost:8080/"
        },
        "outputId": "fc16a1c4-d488-4029-f8a9-b4a687ceed6f"
      },
      "execution_count": null,
      "outputs": [
        {
          "output_type": "stream",
          "name": "stdout",
          "text": [
            "Cantidad de registros en data_antioquia después de eliminar los casos: 373\n"
          ]
        }
      ]
    },
    {
      "cell_type": "markdown",
      "source": [
        "PASO 10: Concordancia fecha inicio sintomas y fecha hospitalizacion"
      ],
      "metadata": {
        "id": "YNfNhO6Hdbyd"
      }
    },
    {
      "cell_type": "code",
      "source": [
        "import pandas as pd\n",
        "\n",
        "# Agregar la columna 'AJUSTEFECHAS' con valores predeterminados vacíos\n",
        "data_antioquia['AJUSTESINTOMAS'] = ''\n",
        "\n",
        "fechas_mayores_fec_diag = data_antioquia[(data_antioquia['ini_sin_'] < data_antioquia['fec_hos_'])]\n",
        "\n",
        "# Si hay casos donde alguna de las fechas es mayor que fec_diag, ajustar la columna 'AJUSTE'\n",
        "if not fechas_mayores_fec_diag.empty:\n",
        "    # Ajustar la columna 'AJUSTEFECHAS' para indicar que se debe ajustar la concordancia de fechas\n",
        "    data_antioquia.loc[fechas_mayores_fec_diag.index, 'AJUSTESINTOMAS'] = 'Ajustar concordancia de inicio de sintomas'\n",
        "\n",
        "# Guardar la base de datos con las nuevas columnas\n",
        "data_antioquia.to_csv('/content/drive/My Drive/Depuracion/data_antioquia_con_ajuste.csv', index=False)\n",
        "\n",
        "# Verificar la cantidad de registros en data_antioquia después de eliminar los casos\n",
        "print(\"Cantidad de registros en data_antioquia después de eliminar los casos:\", len(data_antioquia))"
      ],
      "metadata": {
        "id": "8yaT8zdkdkCy",
        "colab": {
          "base_uri": "https://localhost:8080/"
        },
        "outputId": "727e6eec-b919-4afd-fe8d-9f3f588856a6"
      },
      "execution_count": null,
      "outputs": [
        {
          "output_type": "stream",
          "name": "stdout",
          "text": [
            "Cantidad de registros en data_antioquia después de eliminar los casos: 373\n"
          ]
        }
      ]
    },
    {
      "cell_type": "markdown",
      "source": [
        "PASO 11: Fecha diagnostico igual a la fecha examen"
      ],
      "metadata": {
        "id": "vNRbmlgOlb2t"
      }
    },
    {
      "cell_type": "code",
      "source": [
        "import pandas as pd\n",
        "\n",
        "# Agregar la columna 'AJUSTEFECHAS' con valores predeterminados vacíos\n",
        "data_antioquia['AJUSTEFECEXAMEN'] = ''\n",
        "\n",
        "# Filtrar filas donde control sea \"LABORATORIO\" y fec_exa no sea nulo\n",
        "data_antioquia_lab = data_antioquia[(data_antioquia['control'] == 'LABORATORIOS') & data_antioquia['fec_exa'].notnull()]\n",
        "\n",
        "# Filtrar filas donde fec_diag no sea nulo\n",
        "data_antioquia_lab = data_antioquia_lab[data_antioquia_lab['fec_diag'].notnull()]\n",
        "\n",
        "# Identificar las filas donde las fechas de fec_exa y fec_diag son diferentes\n",
        "fechas_diferentes = data_antioquia_lab[data_antioquia_lab['fec_exa'] != data_antioquia_lab['fec_diag']]\n",
        "\n",
        "# Añadir la columna AJUSTEFECEXAMEN y asignar el mensaje \"AJUSTAR FECHA EXAMEN\" a las filas donde las fechas son diferentes\n",
        "data_antioquia.loc[fechas_diferentes.index, 'AJUSTEFECEXAMEN'] = 'AJUSTAR FECHA EXAMEN'\n",
        "\n",
        "# Guardar la base de datos con la columna de ajustes\n",
        "data_antioquia.to_csv('/content/drive/My Drive/Depuracion/data_antioquia_con_ajuste.csv', index=False)\n",
        "\n",
        "# Verificar la cantidad de registros en fechas_diferentes\n",
        "print(\"Cantidad de registros con fechas diferentes:\", len(fechas_diferentes))"
      ],
      "metadata": {
        "id": "kcNIe5ovvwVA",
        "colab": {
          "base_uri": "https://localhost:8080/"
        },
        "outputId": "59db0088-1cf7-44e9-bab0-bbcf95b7f364"
      },
      "execution_count": null,
      "outputs": [
        {
          "output_type": "stream",
          "name": "stdout",
          "text": [
            "Cantidad de registros con fechas diferentes: 261\n"
          ]
        }
      ]
    },
    {
      "cell_type": "markdown",
      "source": [
        "PASO 12: CASOS QUE NO TIENE EXAMENES Y CRIT_NAV 1\n",
        "\n"
      ],
      "metadata": {
        "id": "AEMqevSLp3HK"
      }
    },
    {
      "cell_type": "code",
      "source": [
        "import pandas as pd\n",
        "\n",
        "# Cargar la base de datos con ajustes\n",
        "data_antioquia_con_ajuste = pd.read_csv('/content/drive/My Drive/Depuracion/data_antioquia_con_ajuste.csv')\n",
        "\n",
        "# Agregar la columna 'AJUSTEFECHAS' con valores predeterminados vacíos\n",
        "data_antioquia_con_ajuste['AJUSTECRITNAV1LABORATORIO'] = ''\n",
        "\n",
        "# Filtrar los casos donde 'crit_nav' es diferente de 1 y control no es nulo\n",
        "filtro = (data_antioquia_con_ajuste['control'].isnull()) & \\\n",
        "         (data_antioquia_con_ajuste['crit_nav'] != 1)\n",
        "\n",
        "# Asignar el comentario correspondiente en la columna 'AJUSTECRITNAV1LABORATORIO'\n",
        "data_antioquia_con_ajuste.loc[filtro, 'AJUSTECRITNAV1LABORATORIO'] = 'Solicitar revisión de laboratorio a la entidad territorial'\n",
        "\n",
        "# Guardar la base de datos actualizada\n",
        "data_antioquia_con_ajuste.to_csv('/content/drive/My Drive/Depuracion/data_antioquia_con_ajuste.csv', index=False)\n"
      ],
      "metadata": {
        "id": "_jDVSTg52l17"
      },
      "execution_count": null,
      "outputs": []
    },
    {
      "cell_type": "markdown",
      "source": [
        "PASO 13: Todos los datos de la variable paciente hospitalizado debe ser 1"
      ],
      "metadata": {
        "id": "gFpr_g-NensR"
      }
    },
    {
      "cell_type": "code",
      "source": [
        "import pandas as pd\n",
        "\n",
        "# Cargar la base de datos con ajustes\n",
        "data_antioquia_con_ajuste = pd.read_csv('/content/drive/My Drive/Depuracion/data_antioquia_con_ajuste.csv')\n",
        "\n",
        "# Agregar la columna 'AJUSTEFECHAS' con valores predeterminados vacíos\n",
        "data_antioquia_con_ajuste['AJUSTEHOSPITALIZADO'] = ''\n",
        "\n",
        "# Filtrar los casos donde 'crit_nav' es diferente de 1 y control no es nulo\n",
        "filtro = (data_antioquia_con_ajuste['pac_hos_'] != 1)\n",
        "\n",
        "# Asignar el comentario correspondiente en la columna 'AJUSTECRITNAV1LABORATORIO'\n",
        "data_antioquia_con_ajuste.loc[filtro, 'AJUSTEHOSPITALIZADO'] = 'Todos los pacientes deben ser pac_hos 1 '\n",
        "\n",
        "# Guardar la base de datos actualizada\n",
        "data_antioquia_con_ajuste.to_csv('/content/drive/My Drive/Depuracion/data_antioquia_con_ajuste.csv', index=False)"
      ],
      "metadata": {
        "id": "ZiJfNdq6euRL"
      },
      "execution_count": null,
      "outputs": []
    },
    {
      "cell_type": "markdown",
      "source": [
        "PASO 14:"
      ],
      "metadata": {
        "id": "xEvfGGV2m0vJ"
      }
    },
    {
      "cell_type": "markdown",
      "source": [
        "Condición 1"
      ],
      "metadata": {
        "id": "5i_zbj4cIpwR"
      }
    },
    {
      "cell_type": "code",
      "source": [
        "import pandas as pd\n",
        "\n",
        "# Cargar la base de datos con ajustes\n",
        "data_antioquia_con_ajuste = pd.read_csv('/content/drive/My Drive/Depuracion/data_antioquia_con_ajuste.csv')\n",
        "\n",
        "# Filtrar los casos donde 'tipo_uci' es diferente de 3, 'uni_med_' es 2 y 'edad_' es menor que 4\n",
        "filtro = (data_antioquia_con_ajuste['tipo_uci'] != 3) & (data_antioquia_con_ajuste['uni_med_'] == 2) & (data_antioquia_con_ajuste['edad_'] < 4)\n",
        "\n",
        "# Crear una nueva columna 'AJUSTEUCI3' con valor predeterminado de ''\n",
        "data_antioquia_con_ajuste['AJUSTEUCI3'] = ''\n",
        "\n",
        "# Actualizar la columna 'AJUSTEUCI3' para aquellos casos que cumplan con el filtro\n",
        "data_antioquia_con_ajuste.loc[filtro, 'AJUSTEUCI3'] = 'Ajustar a tipo de uci 3'\n",
        "\n",
        "# Guardar la base de datos actualizada con la nueva columna\n",
        "data_antioquia_con_ajuste.to_csv('/content/drive/My Drive/Depuracion/data_antioquia_con_ajuste.csv', index=False)\n"
      ],
      "metadata": {
        "id": "NHAES7LTEqBu"
      },
      "execution_count": null,
      "outputs": []
    },
    {
      "cell_type": "markdown",
      "source": [
        "Condición 2"
      ],
      "metadata": {
        "id": "EJsKy90KIv72"
      }
    },
    {
      "cell_type": "code",
      "source": [
        "import pandas as pd\n",
        "\n",
        "# Cargar la base de datos con ajustes\n",
        "data_antioquia_con_ajuste = pd.read_csv('/content/drive/My Drive/Depuracion/data_antioquia_con_ajuste.csv')\n",
        "\n",
        "# Filtrar los casos donde 'tipo_uci' es diferente de 3 y 'uni_med_' es 3\n",
        "filtro = (data_antioquia_con_ajuste['tipo_uci'] != 3) & (data_antioquia_con_ajuste['uni_med_'] == 3)\n",
        "\n",
        "# Crear una nueva columna 'AJUSTEUCI3UNI3' con valor predeterminado de ''\n",
        "data_antioquia_con_ajuste['AJUSTEUCI3UNI3'] = ''\n",
        "\n",
        "# Actualizar la columna 'AJUSTEUCI3UNI3' para aquellos casos que cumplan con el filtro\n",
        "data_antioquia_con_ajuste.loc[filtro, 'AJUSTEUCI3UNI3'] = 'Ajustar a tipo de uci 3'\n",
        "\n",
        "# Guardar la base de datos actualizada con la nueva columna\n",
        "data_antioquia_con_ajuste.to_csv('/content/drive/My Drive/Depuracion/data_antioquia_con_ajuste.csv', index=False)"
      ],
      "metadata": {
        "id": "AMeB_Yhe8MQt"
      },
      "execution_count": null,
      "outputs": []
    },
    {
      "cell_type": "markdown",
      "source": [
        "Condición 3"
      ],
      "metadata": {
        "id": "2EoT4WAzJg0W"
      }
    },
    {
      "cell_type": "code",
      "source": [
        "import pandas as pd\n",
        "\n",
        "# Cargar la base de datos con ajustes\n",
        "data_antioquia_con_ajuste = pd.read_csv('/content/drive/My Drive/Depuracion/data_antioquia_con_ajuste.csv')\n",
        "\n",
        "# Filtrar los casos donde 'tipo_uci' es diferente de 2, 'uni_med_' es 2 y 'edad_' es mayor que 3\n",
        "filtro = (data_antioquia_con_ajuste['tipo_uci'] != 2) & (data_antioquia_con_ajuste['uni_med_'] == 2) & (data_antioquia_con_ajuste['edad_'] > 3)\n",
        "\n",
        "# Crear una nueva columna 'AJUSTEUCI2' con valor predeterminado de ''\n",
        "data_antioquia_con_ajuste['AJUSTEUCI2'] = ''\n",
        "\n",
        "# Actualizar la columna 'AJUSTEUCI2' para aquellos casos que cumplan con el filtro\n",
        "data_antioquia_con_ajuste.loc[filtro, 'AJUSTEUCI2'] = 'Ajustar a tipo de uci 2'\n",
        "\n",
        "# Guardar la base de datos actualizada con la nueva columna\n",
        "data_antioquia_con_ajuste.to_csv('/content/drive/My Drive/Depuracion/data_antioquia_con_ajuste.csv', index=False)"
      ],
      "metadata": {
        "id": "JPq4IKzFHFBN"
      },
      "execution_count": null,
      "outputs": []
    },
    {
      "cell_type": "markdown",
      "source": [
        "Condición 4"
      ],
      "metadata": {
        "id": "5NZHF_1mP5-3"
      }
    },
    {
      "cell_type": "code",
      "source": [
        "import pandas as pd\n",
        "\n",
        "# Cargar la base de datos con ajustes\n",
        "data_antioquia_con_ajuste = pd.read_csv('/content/drive/My Drive/Depuracion/data_antioquia_con_ajuste.csv')\n",
        "\n",
        "# Filtrar los casos donde 'tipo_uci' es diferente de 2, 'uni_med_' es 1 y 'edad_' es menor que 14\n",
        "filtro = (data_antioquia_con_ajuste['tipo_uci'] != 2) & (data_antioquia_con_ajuste['uni_med_'] == 1) & (data_antioquia_con_ajuste['edad_'] < 14)\n",
        "\n",
        "# Crear una nueva columna 'AJUSTEUCI2mayor14' con valor predeterminado de ''\n",
        "data_antioquia_con_ajuste['AJUSTEUCI2mayor14'] = ''\n",
        "\n",
        "# Actualizar la columna 'AJUSTEUCI2mayor14' para aquellos casos que cumplan con el filtro\n",
        "data_antioquia_con_ajuste.loc[filtro, 'AJUSTEUCI2mayor14'] = 'Ajustar a tipo de uci 2'\n",
        "\n",
        "# Guardar la base de datos actualizada con la nueva columna\n",
        "data_antioquia_con_ajuste.to_csv('/content/drive/My Drive/Depuracion/data_antioquia_con_ajuste.csv', index=False)"
      ],
      "metadata": {
        "id": "t_h7L7v2Qf3X"
      },
      "execution_count": null,
      "outputs": []
    },
    {
      "cell_type": "markdown",
      "source": [
        "CONDICION 5:"
      ],
      "metadata": {
        "id": "H4odarBaISxh"
      }
    },
    {
      "cell_type": "code",
      "source": [
        "import pandas as pd\n",
        "\n",
        "# Cargar la base de datos con ajustes\n",
        "data_antioquia_con_ajuste = pd.read_csv('/content/drive/My Drive/Depuracion/data_antioquia_con_ajuste.csv')\n",
        "\n",
        "# Filtrar los casos donde 'tipo_uci' es diferente de 1, 'uni_med_' es 1 y 'edad_' es mayor o igual a 18\n",
        "filtro = (data_antioquia_con_ajuste['tipo_uci'] != 1) & (data_antioquia_con_ajuste['uni_med_'] == 1) & (data_antioquia_con_ajuste['edad_'] >= 18)\n",
        "\n",
        "# Crear una nueva columna 'AJUSTEUCI1' con valor predeterminado de ''\n",
        "data_antioquia_con_ajuste['AJUSTEUCI1'] = ''\n",
        "\n",
        "# Actualizar la columna 'AJUSTEUCI1' para aquellos casos que cumplan con el filtro\n",
        "data_antioquia_con_ajuste.loc[filtro, 'AJUSTEUCI1'] = 'Ajustar a tipo de uci 1'\n",
        "\n",
        "# Guardar la base de datos actualizada con la nueva columna\n",
        "data_antioquia_con_ajuste.to_csv('/content/drive/My Drive/Depuracion/data_antioquia_con_ajuste.csv', index=False)"
      ],
      "metadata": {
        "id": "yQmd51RqIUKh"
      },
      "execution_count": null,
      "outputs": []
    },
    {
      "cell_type": "markdown",
      "source": [
        "PASO 15:"
      ],
      "metadata": {
        "id": "_X9s_bO5m43R"
      }
    },
    {
      "cell_type": "code",
      "source": [
        "import pandas as pd\n",
        "\n",
        "# Cargar la base de datos con ajustes\n",
        "data_antioquia_con_ajuste = pd.read_csv('/content/drive/My Drive/Depuracion/data_antioquia_con_ajuste.csv')\n",
        "\n",
        "# Filtrar los casos donde 'tipo_iad' es igual a 1 y 'crit_nav' es igual a 1\n",
        "filtro = (data_antioquia_con_ajuste['tipo_iad'] == 1) & (data_antioquia_con_ajuste['crit_nav'] == 1)\n",
        "\n",
        "# Filtrar los casos que tengan 'muestra' igual a 10, 31 o 32\n",
        "filtro_muestra = data_antioquia_con_ajuste['muestra'].isin([10, 31, 32])\n",
        "\n",
        "# Aplicar el filtro\n",
        "casos_filtrados = data_antioquia_con_ajuste[filtro & filtro_muestra]\n",
        "\n",
        "# Guardar los casos filtrados en otra base de datos\n",
        "casos_filtrados.to_csv('/content/drive/My Drive/Depuracion/casos_filtrados.csv', index=False)\n",
        "\n",
        "# Guardar la base de datos actualizada\n",
        "data_antioquia_con_ajuste.to_csv('/content/drive/My Drive/Depuracion/data_antioquia_con_ajuste.csv', index=False)"
      ],
      "metadata": {
        "id": "SS8uXKtTqLAW"
      },
      "execution_count": null,
      "outputs": []
    },
    {
      "cell_type": "markdown",
      "source": [
        "PASO 16:"
      ],
      "metadata": {
        "id": "is-3vjMznBDZ"
      }
    },
    {
      "cell_type": "markdown",
      "source": [
        "PASO 17: Filtrar tipo_iad = 1 + crit_nav = 2 y 3 >> muestra = null >> agente = null  se reclasifica a crit_nav = 1."
      ],
      "metadata": {
        "id": "wsFQ4wkEnESB"
      }
    },
    {
      "cell_type": "code",
      "source": [
        "import pandas as pd\n",
        "\n",
        "# Cargar la base de datos con ajustes\n",
        "data_antioquia_con_ajuste = pd.read_csv('/content/drive/My Drive/Depuracion/data_antioquia_con_ajuste.csv')\n",
        "\n",
        "# Agregar la columna 'AJUSTE' con valores predeterminados vacíos\n",
        "data_antioquia_con_ajuste['AJUSTECRITNAV1'] = ''\n",
        "\n",
        "# Filtrar los casos donde 'tipo_iad' es igual a 1 y 'crit_nav' es igual a 2 o 3\n",
        "filtro_tipo_iad = data_antioquia_con_ajuste['tipo_iad'] == 1\n",
        "filtro_crit_nav = data_antioquia_con_ajuste['crit_nav'].isin([2, 3])\n",
        "\n",
        "# Filtrar los casos donde 'muestra' y 'agente' son nulos\n",
        "filtro_muestra_agente = data_antioquia_con_ajuste['muestra'].isnull() & data_antioquia_con_ajuste['agente'].isnull()\n",
        "\n",
        "# Aplicar el filtro\n",
        "casos_filtrados = data_antioquia_con_ajuste[filtro_crit_nav & filtro_muestra_agente]\n",
        "\n",
        "# Crear la columna 'AJUSTECRITNAV1' y asignar el comentario correspondiente\n",
        "casos_filtrados['AJUSTECRITNAV1'] = 'Ajustar a criterio NAV 1'\n",
        "\n",
        "# Guardar la base de datos actualizada\n",
        "data_antioquia_con_ajuste.to_csv('/content/drive/My Drive/Depuracion/data_antioquia_con_ajuste.csv', index=False)"
      ],
      "metadata": {
        "id": "ydLLqQYxrWyJ"
      },
      "execution_count": null,
      "outputs": []
    },
    {
      "cell_type": "markdown",
      "source": [
        "PASO 18:"
      ],
      "metadata": {
        "id": "g7ii3pZASqio"
      }
    },
    {
      "cell_type": "code",
      "source": [
        "import pandas as pd\n",
        "\n",
        "# Cargar la base de datos con ajustes\n",
        "data_antioquia_con_ajuste = pd.read_csv('/content/drive/My Drive/Depuracion/data_antioquia_con_ajuste.csv')\n",
        "\n",
        "# Filtrar los casos donde 'tipo_iad' es igual a 1 y 'crit_nav' es igual a 2 o 3, y 'muestra' es 10 o 32\n",
        "filtro = (data_antioquia_con_ajuste['tipo_iad'] == 1) & \\\n",
        "         (data_antioquia_con_ajuste['crit_nav'].isin([2, 3])) & \\\n",
        "         (data_antioquia_con_ajuste['muestra'].isin([10, 32]))\n",
        "\n",
        "# Asignar el comentario correspondiente en la columna 'AJUSTECRITNAV1.1'\n",
        "data_antioquia_con_ajuste.loc[filtro, 'AJUSTECRITNAV1.1'] = 'Ajustar a criterio NAV 1'\n",
        "\n",
        "# Guardar la base de datos actualizada\n",
        "data_antioquia_con_ajuste.to_csv('/content/drive/My Drive/Depuracion/data_antioquia_con_ajuste.csv', index=False)"
      ],
      "metadata": {
        "id": "Ae89Y2_DTinn"
      },
      "execution_count": null,
      "outputs": []
    },
    {
      "cell_type": "markdown",
      "source": [
        "PASO 19:"
      ],
      "metadata": {
        "id": "UWqWXdAYU1-2"
      }
    },
    {
      "cell_type": "code",
      "source": [
        "import pandas as pd\n",
        "\n",
        "# Cargar la base de datos con ajustes\n",
        "data_antioquia_con_ajuste = pd.read_csv('/content/drive/My Drive/Depuracion/data_antioquia_con_ajuste.csv')\n",
        "\n",
        "# Filtrar los casos donde 'tipo_iad' es igual a 1 y 'crit_nav' es igual a 2 o 3, y 'muestra' es 10 o 32\n",
        "filtro = (data_antioquia_con_ajuste['tipo_iad'] == 1) & \\\n",
        "         (data_antioquia_con_ajuste['crit_nav'] == 2) & \\\n",
        "         (data_antioquia_con_ajuste['inmunosupr'] == 1)\n",
        "\n",
        "# Asignar el comentario correspondiente en la columna 'AJUSTECRITNAV1.1'\n",
        "data_antioquia_con_ajuste.loc[filtro, 'AJUSTECRITNAV3'] = 'NAV criterio 2 en paciente inmunosuprimido, ajustar a criterio NAV 3'\n",
        "\n",
        "# Guardar la base de datos actualizada\n",
        "data_antioquia_con_ajuste.to_csv('/content/drive/My Drive/Depuracion/data_antioquia_con_ajuste.csv', index=False)"
      ],
      "metadata": {
        "id": "fxbu2d3Oo5kZ"
      },
      "execution_count": null,
      "outputs": []
    },
    {
      "cell_type": "markdown",
      "source": [
        "PASO 20:"
      ],
      "metadata": {
        "id": "UbXEu4G-WaG_"
      }
    },
    {
      "cell_type": "code",
      "source": [
        "import pandas as pd\n",
        "\n",
        "# Cargar la base de datos con ajustes\n",
        "data_antioquia_con_ajuste = pd.read_csv('/content/drive/My Drive/Depuracion/data_antioquia_con_ajuste.csv')\n",
        "\n",
        "# Filtrar los casos donde 'tipo_iad' es igual a 1 y 'crit_nav' es igual a 2 o 3, y 'muestra' es 10 o 32\n",
        "filtro = (data_antioquia_con_ajuste['tipo_iad'] == 2) & \\\n",
        "         (data_antioquia_con_ajuste['muestra'].isin([10, 32, 11]))\n",
        "\n",
        "# Asignar el comentario correspondiente en la columna 'AJUSTECRITNAV1.1'\n",
        "data_antioquia_con_ajuste.loc[filtro, 'AJUSTEMUESTRA'] = 'Ajustar las muestras inapropiadas'\n",
        "\n",
        "# Guardar la base de datos actualizada\n",
        "data_antioquia_con_ajuste.to_csv('/content/drive/My Drive/Depuracion/data_antioquia_con_ajuste.csv', index=False)"
      ],
      "metadata": {
        "id": "ArBGn1YuVlbA"
      },
      "execution_count": null,
      "outputs": []
    },
    {
      "cell_type": "markdown",
      "source": [
        "PASO 21:"
      ],
      "metadata": {
        "id": "BWzq3Ms9W163"
      }
    },
    {
      "cell_type": "code",
      "source": [
        "import pandas as pd\n",
        "\n",
        "# Cargar la base de datos con ajustes\n",
        "data_antioquia_con_ajuste = pd.read_csv('/content/drive/My Drive/Depuracion/data_antioquia_con_ajuste.csv')\n",
        "\n",
        "# Filtrar los casos donde 'tipo_iad' es igual a 1 y 'crit_nav' es igual a 2 o 3, y 'muestra' es 10 o 32\n",
        "filtro = (data_antioquia_con_ajuste['tipo_iad'] == 2) & \\\n",
        "         (data_antioquia_con_ajuste['crit_istua'].isin([1, 2,])) & \\\n",
        "         (data_antioquia_con_ajuste['uni_med_'].isin([2, 3,]))\n",
        "\n",
        "# Asignar el comentario correspondiente en la columna 'AJUSTECRITNAV1.1'\n",
        "data_antioquia_con_ajuste.loc[filtro, 'AJUSTECRITISTUA2-4'] = 'Ajustar reclasificación a crit 3 o 4, según corresponda'\n",
        "\n",
        "# Guardar la base de datos actualizada\n",
        "data_antioquia_con_ajuste.to_csv('/content/drive/My Drive/Depuracion/data_antioquia_con_ajuste.csv', index=False)"
      ],
      "metadata": {
        "id": "gE8r2Wt8W34E"
      },
      "execution_count": null,
      "outputs": []
    },
    {
      "cell_type": "markdown",
      "source": [
        "PASO 22:"
      ],
      "metadata": {
        "id": "CEdQ4YGRXA_j"
      }
    },
    {
      "cell_type": "code",
      "source": [
        "import pandas as pd\n",
        "\n",
        "# Cargar la base de datos con ajustes\n",
        "data_antioquia_con_ajuste = pd.read_csv('/content/drive/My Drive/Depuracion/data_antioquia_con_ajuste.csv')\n",
        "\n",
        "# Filtrar los casos donde 'tipo_iad' es igual a 1 y 'crit_nav' es igual a 2 o 3, y 'muestra' es 10 o 32\n",
        "filtro = (data_antioquia_con_ajuste['tipo_iad'] == 2) & \\\n",
        "         (data_antioquia_con_ajuste['crit_istua'].isin([3, 4,])) & \\\n",
        "         (data_antioquia_con_ajuste['uni_med_'] == 1)\n",
        "\n",
        "# Asignar el comentario correspondiente en la columna 'AJUSTECRITNAV1.1'\n",
        "data_antioquia_con_ajuste.loc[filtro, 'AJUSTECRITISTUA1-2'] = 'Ajustar reclasificación a crit 1 o 2, según corresponda'\n",
        "\n",
        "# Guardar la base de datos actualizada\n",
        "data_antioquia_con_ajuste.to_csv('/content/drive/My Drive/Depuracion/data_antioquia_con_ajuste.csv', index=False)"
      ],
      "metadata": {
        "id": "GARsRNQcXsWX"
      },
      "execution_count": null,
      "outputs": []
    },
    {
      "cell_type": "markdown",
      "source": [
        "PASO 23:"
      ],
      "metadata": {
        "id": "OPbvqxMUZU8T"
      }
    },
    {
      "cell_type": "code",
      "source": [
        "import pandas as pd\n",
        "\n",
        "# Cargar la base de datos con ajustes\n",
        "data_antioquia_con_ajuste = pd.read_csv('/content/drive/My Drive/Depuracion/data_antioquia_con_ajuste.csv')\n",
        "\n",
        "# Filtrar los casos donde 'tipo_iad' es igual a 1 y 'crit_nav' es igual a 2 o 3, y 'muestra' es 10 o 32\n",
        "filtro = (data_antioquia_con_ajuste['tipo_iad'] == 3) & \\\n",
        "         (data_antioquia_con_ajuste['muestra'] != 1) & \\\n",
        "         (data_antioquia_con_ajuste['prueba'] != 92)\n",
        "\n",
        "# Asignar el comentario correspondiente en la columna 'AJUSTECRITNAV1.1'\n",
        "data_antioquia_con_ajuste.loc[filtro, 'AJUSTEMUESTRAPRUEBA'] = 'Ajustar muestra y prueba'\n",
        "\n",
        "# Guardar la base de datos actualizada\n",
        "data_antioquia_con_ajuste.to_csv('/content/drive/My Drive/Depuracion/data_antioquia_con_ajuste.csv', index=False)\n"
      ],
      "metadata": {
        "id": "YZpdGPrhZY7s"
      },
      "execution_count": null,
      "outputs": []
    },
    {
      "cell_type": "markdown",
      "source": [
        "PASO 24:"
      ],
      "metadata": {
        "id": "wZrdlfUcZk-Z"
      }
    },
    {
      "cell_type": "code",
      "source": [
        "import pandas as pd\n",
        "\n",
        "# Cargar la base de datos con ajustes\n",
        "data_antioquia_con_ajuste = pd.read_csv('/content/drive/My Drive/Depuracion/data_antioquia_con_ajuste.csv')\n",
        "\n",
        "# Definir los agentes a excluir\n",
        "agentes_excluidos = [170, 171, 173, 174, 175, 176, 177, 178, 179, 180, 181, 182, 183, 184, 185, 186, 187, 188, 189, 190, 191, 192, 193, 194, 195, 196, 197, 198, 199, 200, 201, 202, 381, 477, 593, 594, 595, 596, 597, 598, 599, 600, 601, 602, 603, 1854, 2500, 3428, 3429, 3430, 3431, 3432, 3433, 3434, 3435, 3436, 3437, 3438, 3439, 3440, 3441, 3442, 3443, 3444, 3445, 3446, 3447, 3448, 3449, 3450, 3451, 3452, 3453, 3454, 3455, 3456, 3457, 3458, 3459, 3460, 3461, 3462, 3463, 3464, 3465, 3466, 3467, 3468, 203, 204, 205]\n",
        "\n",
        "# Filtrar los casos donde 'tipo_iad' es igual a 1 y 'crit_nav' es igual a 2 o 3, y 'muestra' es 10 o 32\n",
        "filtro = (data_antioquia_con_ajuste['tipo_iad'] == 3) & \\\n",
        "         (data_antioquia_con_ajuste['crit_itsac'].isin([2, 3,])) & \\\n",
        "         (~data_antioquia_con_ajuste['agente'].isin(agentes_excluidos))\n",
        "\n",
        "# Asignar el comentario correspondiente a las filas seleccionadas\n",
        "data_antioquia_con_ajuste.loc[filtro, 'AJUSTECRITITSAC1'] = 'Ajustar a crit itsac 1'\n",
        "\n",
        "# Guardar la base de datos actualizada\n",
        "data_antioquia_con_ajuste.to_csv('/content/drive/My Drive/Depuracion/data_antioquia_con_ajuste.csv', index=False)"
      ],
      "metadata": {
        "id": "kPevA29N7TUR"
      },
      "execution_count": null,
      "outputs": []
    },
    {
      "cell_type": "markdown",
      "source": [
        "PASO 25:"
      ],
      "metadata": {
        "id": "Ke_MIYxbawFW"
      }
    },
    {
      "cell_type": "code",
      "source": [
        "import pandas as pd\n",
        "\n",
        "# Cargar la base de datos con ajustes\n",
        "data_antioquia_con_ajuste = pd.read_csv('/content/drive/My Drive/Depuracion/data_antioquia_con_ajuste.csv')\n",
        "\n",
        "# Filtrar los casos donde 'tipo_iad' es igual a 1 y 'crit_nav' es igual a 2 o 3, y 'muestra' es 10 o 32\n",
        "filtro = (data_antioquia_con_ajuste['tipo_iad'] == 3) & \\\n",
        "         (data_antioquia_con_ajuste['crit_itsac'] == 1) & \\\n",
        "         (data_antioquia_con_ajuste['uni_med_'] != 1) & \\\n",
        "         (data_antioquia_con_ajuste['agente'] == 183)\n",
        "\n",
        "\n",
        "# Asignar el comentario correspondiente en la columna 'AJUSTECRITNAV1.1'\n",
        "data_antioquia_con_ajuste.loc[filtro, 'AJUSTECRITITSAC3'] = 'Ajustar a crit itsac 3'\n",
        "\n",
        "# Guardar la base de datos actualizada\n",
        "data_antioquia_con_ajuste.to_csv('/content/drive/My Drive/Depuracion/data_antioquia_con_ajuste.csv', index=False)"
      ],
      "metadata": {
        "id": "aVFtAeGPQtQy"
      },
      "execution_count": null,
      "outputs": []
    },
    {
      "cell_type": "markdown",
      "source": [
        "PASO 26:"
      ],
      "metadata": {
        "id": "Ye8ZqVcCaxXX"
      }
    },
    {
      "cell_type": "code",
      "source": [
        "import pandas as pd\n",
        "\n",
        "# Cargar la base de datos con ajustes\n",
        "data_antioquia_con_ajuste = pd.read_csv('/content/drive/My Drive/Depuracion/data_antioquia_con_ajuste.csv')\n",
        "\n",
        "# Filtrar los casos donde 'tipo_iad' es igual a 1 y 'crit_nav' es igual a 2 o 3, y 'muestra' es 10 o 32\n",
        "filtro = (data_antioquia_con_ajuste['tipo_iad'] == 3) & \\\n",
        "         (data_antioquia_con_ajuste['crit_itsac'] == 2) & \\\n",
        "         (data_antioquia_con_ajuste['uni_med_'] != 1)\n",
        "\n",
        "\n",
        "\n",
        "# Asignar el comentario correspondiente en la columna 'AJUSTECRITNAV1.1'\n",
        "data_antioquia_con_ajuste.loc[filtro, 'AJUSTECRITITSAC3.1'] = 'Ajustar a crit itsac 3'\n",
        "\n",
        "# Guardar la base de datos actualizada\n",
        "data_antioquia_con_ajuste.to_csv('/content/drive/My Drive/Depuracion/data_antioquia_con_ajuste.csv', index=False)"
      ],
      "metadata": {
        "id": "uUR7t8LcayVQ"
      },
      "execution_count": null,
      "outputs": []
    },
    {
      "cell_type": "markdown",
      "source": [
        "PASO 27:"
      ],
      "metadata": {
        "id": "KOLTbxjcbrsV"
      }
    },
    {
      "cell_type": "code",
      "source": [
        "import pandas as pd\n",
        "\n",
        "# Cargar la base de datos con ajustes\n",
        "data_antioquia_con_ajuste = pd.read_csv('/content/drive/My Drive/Depuracion/data_antioquia_con_ajuste.csv')\n",
        "\n",
        "# Filtrar los casos donde 'tipo_iad' es igual a 1 y 'crit_nav' es igual a 2 o 3, y 'muestra' es 10 o 32\n",
        "filtro = (data_antioquia_con_ajuste['tipo_iad'] == 3) & \\\n",
        "         (data_antioquia_con_ajuste['crit_itsac'] == 3) & \\\n",
        "         (data_antioquia_con_ajuste['uni_med_'] == 1)\n",
        "\n",
        "# Asignar el comentario correspondiente en la columna 'AJUSTECRITNAV1.1'\n",
        "data_antioquia_con_ajuste.loc[filtro, 'AJUSTECRITITSAC2'] = 'Ajustar a crit itsac 2'\n",
        "\n",
        "# Guardar la base de datos actualizada\n",
        "data_antioquia_con_ajuste.to_csv('/content/drive/My Drive/Depuracion/data_antioquia_con_ajuste.csv', index=False)\n"
      ],
      "metadata": {
        "id": "LCF0oxw3bxag"
      },
      "execution_count": null,
      "outputs": []
    },
    {
      "cell_type": "markdown",
      "source": [
        "PASO 28:"
      ],
      "metadata": {
        "id": "kiDNRUgGd4HI"
      }
    },
    {
      "cell_type": "code",
      "source": [
        "# Lista de las columnas que deseas mantener visibles\n",
        "columnas_visibles = [\n",
        "    'fec_exa', 'muestra', 'prueba', 'agente', 'fec_not',\n",
        "    'pri_nom_', 'seg_nom_', 'pri_ape_', 'seg_ape_', 'num_ide_',\n",
        "    'edad_', 'ini_sin_', 'tip_cas_', 'pac_hos_', 'fec_hos_',\n",
        "    'con_fin_', 'fec_inguci', 'tipo_iad', 'crit_nav',\n",
        "    'crit_itsac', 'crit_istua', 'fec_diag', 'iad_polim'\n",
        "]\n",
        "\n",
        "# Ocultar todas las columnas excepto las visibles\n",
        "data_antioquia_final = data_antioquia_con_ajuste.loc[:, columnas_visibles]\n",
        "\n",
        "# Crear una copia del DataFrame\n",
        "data_antioquia_con_ajuste_copy = data_antioquia_con_ajuste.copy()\n",
        "\n",
        "# Guardar la copia en Google Drive con el nombre aAJUTES\n",
        "data_antioquia_con_ajuste_copy.to_csv('/content/drive/My Drive/Depuracion/AJUSTES.csv', index=False)\n",
        "\n",
        "# Guardar la base de datos filtrada como data_antioquia_final\n",
        "data_antioquia_final.to_csv('/content/drive/My Drive/Depuracion/data_antioquia_final.csv', index=False)\n"
      ],
      "metadata": {
        "id": "Og-Afjewd58_"
      },
      "execution_count": null,
      "outputs": []
    },
    {
      "cell_type": "markdown",
      "source": [
        "PASO 29:"
      ],
      "metadata": {
        "id": "x0gLEcOJ3Wvs"
      }
    },
    {
      "cell_type": "code",
      "source": [
        "import pandas as pd\n",
        "\n",
        "# Leer la base de datos original, especificando que la columna 'num_ide' debe ser leída como cadena de caracteres\n",
        "data_antioquia_con_ajuste = pd.read_csv('/content/drive/My Drive/Depuracion/data_antioquia_con_ajuste.csv')\n",
        "\n",
        "# Identificar duplicados basados en las columnas num_ide, tipo_iad, fec_diag y microorganismo\n",
        "duplicados = data_antioquia_con_ajuste[data_antioquia_con_ajuste.duplicated(subset=['num_ide_', 'tipo_iad', 'fec_diag', 'agente'], keep=False)]\n",
        "\n",
        "# Crear una base de datos para los duplicados\n",
        "duplicados.to_csv('/content/drive/My Drive/Depuracion/duplicados.csv', index=False)\n",
        "\n",
        "# Eliminar los duplicados de la base de datos original\n",
        "data_antioquia_con_ajuste.drop_duplicates(subset=['num_ide_', 'tipo_iad', 'fec_diag', 'agente'], keep='first', inplace=True)\n",
        "\n",
        "# Guardar la base de datos actualizada\n",
        "data_antioquia_con_ajuste.to_csv('/content/drive/My Drive/Depuracion/data_antioquia_con_ajuste.csv', index=False)\n",
        "\n",
        "# Verificar la cantidad de registros después de filtrar por Antioquia\n",
        "print(\"Cantidad de registros después de filtrar por Antioquia:\", len(data_antioquia_con_ajuste))"
      ],
      "metadata": {
        "id": "esg8_AJH3X6t",
        "colab": {
          "base_uri": "https://localhost:8080/"
        },
        "outputId": "575fc189-7cfd-46db-93ba-16eb9a539cc2"
      },
      "execution_count": null,
      "outputs": [
        {
          "output_type": "stream",
          "name": "stdout",
          "text": [
            "Cantidad de registros después de filtrar por Antioquia: 372\n"
          ]
        }
      ]
    },
    {
      "cell_type": "markdown",
      "source": [
        "Condición 2:"
      ],
      "metadata": {
        "id": "KS8lbPICDsA2"
      }
    },
    {
      "cell_type": "code",
      "source": [
        "import pandas as pd\n",
        "\n",
        "# Leer la base de datos original\n",
        "data_antioquia_con_ajuste = pd.read_csv('/content/drive/My Drive/Depuracion/data_antioquia_con_ajuste.csv')\n",
        "\n",
        "# Identificar duplicados basados en las columnas num_ide, tipo_iad y fec_diag\n",
        "duplicados = data_antioquia_con_ajuste[data_antioquia_con_ajuste.duplicated(subset=['num_ide_', 'tipo_iad', 'fec_diag' , 'agente'], keep=False)]\n",
        "\n",
        "\n",
        "\n",
        "# Asegúrate de que la columna 'fec_diag' esté en formato datetime\n",
        "duplicados['fec_diag'] = pd.to_datetime(duplicados['fec_diag'], errors='coerce')\n",
        "\n",
        "# Ahora aplica tu filtro\n",
        "filtro_fec_diag = (duplicados['fec_diag'].diff().dt.days.abs() < 14) | (duplicados['fec_diag'].diff().isna())\n",
        "\n",
        "# Aplicar el filtro\n",
        "duplicados_filtrados = duplicados[filtro_fec_diag]\n",
        "\n",
        "# Verificar si hay duplicados filtrados\n",
        "if not duplicados_filtrados.empty:\n",
        "    # Eliminar los duplicados de la base de datos original\n",
        "    data_antioquia_con_ajuste.drop_duplicates(subset=['num_ide_', 'tipo_iad', 'fec_diag' , 'agente'], keep='first', inplace=True)\n",
        "\n",
        "    # Guardar la base de datos actualizada\n",
        "    data_antioquia_con_ajuste.to_csv('/content/drive/My Drive/Depuracion/data_antioquia_con_ajuste.csv', index=False)\n",
        "\n",
        "    # Crear una base de datos para los duplicados\n",
        "    duplicados_filtrados.to_csv('/content/drive/My Drive/Depuracion/duplicados_agente.csv', index=False)\n",
        "\n",
        "    print(\"Duplicados encontrados y eliminados. Se han guardado en un archivo separado.\")\n",
        "else:\n",
        "    print(\"No se encontraron duplicados que cumplan con los criterios de filtro.\")\n",
        "\n",
        "\n",
        "# Verificar la cantidad de registros después de filtrar por Antioquia\n",
        "print(\"Cantidad de registros después de filtrar por Antioquia:\", len(data_antioquia_con_ajuste))\n"
      ],
      "metadata": {
        "id": "uEJMnAPmrwBN",
        "colab": {
          "base_uri": "https://localhost:8080/"
        },
        "outputId": "74569c15-8e65-4963-bec9-681fd23dc062"
      },
      "execution_count": null,
      "outputs": [
        {
          "output_type": "stream",
          "name": "stdout",
          "text": [
            "No se encontraron duplicados que cumplan con los criterios de filtro.\n",
            "Cantidad de registros después de filtrar por Antioquia: 372\n"
          ]
        }
      ]
    },
    {
      "cell_type": "markdown",
      "source": [
        "PASO 30:"
      ],
      "metadata": {
        "id": "QHfMN5AZuWBU"
      }
    },
    {
      "cell_type": "code",
      "source": [
        "import pandas as pd\n",
        "\n",
        "# Leer la base de datos original\n",
        "data_antioquia_con_ajuste = pd.read_csv('/content/drive/My Drive/Depuracion/data_antioquia_con_ajuste.csv')\n",
        "\n",
        "# Identificar duplicados basados en las columnas num_ide, tipo_iad y fec_diag\n",
        "duplicados = data_antioquia_con_ajuste[data_antioquia_con_ajuste.duplicated(subset=['num_ide_', 'tipo_iad', 'fec_diag'], keep=False)]\n",
        "\n",
        "\n",
        "# Asegúrate de que la columna 'fec_diag' esté en formato datetime\n",
        "duplicados['fec_diag'] = pd.to_datetime(duplicados['fec_diag'], errors='coerce')\n",
        "\n",
        "# Ahora aplica tu filtro\n",
        "filtro_fec_diag = (duplicados['fec_diag'].diff().dt.days.abs() < 14) | (duplicados['fec_diag'].diff().isna())\n",
        "\n",
        "# Aplicar el filtro\n",
        "duplicados_filtrados = duplicados[filtro_fec_diag]\n",
        "\n",
        "# Verificar si hay duplicados filtrados\n",
        "if not duplicados_filtrados.empty:\n",
        "    # Eliminar los duplicados de la base de datos original\n",
        "    data_antioquia_con_ajuste.drop_duplicates(subset=['num_ide_', 'tipo_iad', 'fec_diag'], keep='first', inplace=True)\n",
        "\n",
        "    # Guardar la base de datos actualizada\n",
        "    data_antioquia_con_ajuste.to_csv('/content/drive/My Drive/Depuracion/data_antioquia_con_ajuste.csv', index=False)\n",
        "\n",
        "    # Crear una base de datos para los duplicados\n",
        "    duplicados_filtrados.to_csv('/content/drive/My Drive/Depuracion/duplicados_tipo_3.csv', index=False)\n",
        "\n",
        "    print(\"Duplicados encontrados y eliminados. Se han guardado en un archivo separado.\")\n",
        "else:\n",
        "    print(\"No se encontraron duplicados que cumplan con los criterios de filtro.\")\n",
        "\n",
        "\n",
        "# Verificar la cantidad de registros después de filtrar por Antioquia\n",
        "print(\"Cantidad de registros después de filtrar por Antioquia:\", len(data_antioquia_con_ajuste))\n"
      ],
      "metadata": {
        "colab": {
          "base_uri": "https://localhost:8080/"
        },
        "id": "jweMwlhnShZr",
        "outputId": "6b148597-d593-4bdd-e939-3b76f69c6712"
      },
      "execution_count": null,
      "outputs": [
        {
          "output_type": "stream",
          "name": "stdout",
          "text": [
            "Duplicados encontrados y eliminados. Se han guardado en un archivo separado.\n",
            "Cantidad de registros después de filtrar por Antioquia: 358\n"
          ]
        },
        {
          "output_type": "stream",
          "name": "stderr",
          "text": [
            "<ipython-input-41-1a27f097c2fc>:11: SettingWithCopyWarning: \n",
            "A value is trying to be set on a copy of a slice from a DataFrame.\n",
            "Try using .loc[row_indexer,col_indexer] = value instead\n",
            "\n",
            "See the caveats in the documentation: https://pandas.pydata.org/pandas-docs/stable/user_guide/indexing.html#returning-a-view-versus-a-copy\n",
            "  duplicados['fec_diag'] = pd.to_datetime(duplicados['fec_diag'], errors='coerce')\n"
          ]
        }
      ]
    }
  ]
}